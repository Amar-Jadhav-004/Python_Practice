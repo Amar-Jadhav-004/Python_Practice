{
  "nbformat": 4,
  "nbformat_minor": 0,
  "metadata": {
    "colab": {
      "name": "W3 Resources Tuple.ipynb",
      "provenance": [],
      "collapsed_sections": []
    },
    "kernelspec": {
      "name": "python3",
      "display_name": "Python 3"
    },
    "language_info": {
      "name": "python"
    }
  },
  "cells": [
    {
      "cell_type": "markdown",
      "metadata": {
        "id": "UjmGS_k9PxHr"
      },
      "source": [
        "1. Write a Python program to create a tuple."
      ]
    },
    {
      "cell_type": "code",
      "metadata": {
        "colab": {
          "base_uri": "https://localhost:8080/"
        },
        "id": "XTCAT0QyPTBI",
        "outputId": "45dc623e-8e65-46a5-e420-a014f44b0ef7"
      },
      "source": [
        "import numpy as np\n",
        "\n",
        "tup = tuple(np.random.randint(100,size = 20))\n",
        "print(tup)"
      ],
      "execution_count": null,
      "outputs": [
        {
          "output_type": "stream",
          "text": [
            "(21, 65, 87, 17, 68, 85, 0, 68, 53, 27, 16, 95, 24, 22, 37, 38, 67, 43, 67, 12)\n"
          ],
          "name": "stdout"
        }
      ]
    },
    {
      "cell_type": "markdown",
      "metadata": {
        "id": "K4utwHhuQRiW"
      },
      "source": [
        "2. Write a Python program to create a tuple with different data types."
      ]
    },
    {
      "cell_type": "code",
      "metadata": {
        "colab": {
          "base_uri": "https://localhost:8080/"
        },
        "id": "VgbDv7QlQSIa",
        "outputId": "7ead46cd-dae3-4441-f6f8-2c6e5d1e531f"
      },
      "source": [
        "tup = ('amar',1,3.14,True,[1,2,3],(4,5,6),{7,8,9},{\"mobile\":828692900})\n",
        "print(tup)"
      ],
      "execution_count": null,
      "outputs": [
        {
          "output_type": "stream",
          "text": [
            "('amar', 1, 3.14, True, [1, 2, 3], (4, 5, 6), {8, 9, 7}, {'mobile': 828692900})\n"
          ],
          "name": "stdout"
        }
      ]
    },
    {
      "cell_type": "markdown",
      "metadata": {
        "id": "6L2vIjkIQzAk"
      },
      "source": [
        "3. Write a Python program to create a tuple with numbers and print one item"
      ]
    },
    {
      "cell_type": "code",
      "metadata": {
        "colab": {
          "base_uri": "https://localhost:8080/"
        },
        "id": "zEymTKIzQznl",
        "outputId": "0dc57b70-a223-447e-b965-def688b87bd6"
      },
      "source": [
        "tup = tuple(np.random.randint(100,size = 20))\n",
        "\n",
        "print('tup :- ',tup)\n",
        "print('tup[0] :-' ,tup[0])"
      ],
      "execution_count": null,
      "outputs": [
        {
          "output_type": "stream",
          "text": [
            "tup :-  (98, 6, 3, 85, 42, 51, 23, 62, 69, 74, 14, 42, 12, 44, 74, 22, 41, 87, 15, 57)\n",
            "tup[0] :- 98\n"
          ],
          "name": "stdout"
        }
      ]
    },
    {
      "cell_type": "markdown",
      "metadata": {
        "id": "Bbg5o8h5RX5s"
      },
      "source": [
        "4. Write a Python program to unpack a tuple in several variables"
      ]
    },
    {
      "cell_type": "code",
      "metadata": {
        "colab": {
          "base_uri": "https://localhost:8080/"
        },
        "id": "tHlTQEGeRYe8",
        "outputId": "eb8446c0-ebfa-48c8-ac88-846db905f3aa"
      },
      "source": [
        "tup = (1,2,3,4)\n",
        "t1,t2,t3,t4 = tup\n",
        "\n",
        "print(t1,t2,t3,t4)"
      ],
      "execution_count": null,
      "outputs": [
        {
          "output_type": "stream",
          "text": [
            "1 2 3 4\n"
          ],
          "name": "stdout"
        }
      ]
    },
    {
      "cell_type": "markdown",
      "metadata": {
        "id": "0QDloqjRSDWv"
      },
      "source": [
        "5. Write a Python program to add an item in a tuple."
      ]
    },
    {
      "cell_type": "code",
      "metadata": {
        "colab": {
          "base_uri": "https://localhost:8080/"
        },
        "id": "43FCKwo7SH6I",
        "outputId": "0e74df0e-2f85-407f-d3e7-ba00ad8f91d6"
      },
      "source": [
        "tup1 = (1,2,3,4)\n",
        "tup2 = (5,6,7,8,9)\n",
        "\n",
        "tup1 + tup2"
      ],
      "execution_count": null,
      "outputs": [
        {
          "output_type": "execute_result",
          "data": {
            "text/plain": [
              "(1, 2, 3, 4, 5, 6, 7, 8, 9)"
            ]
          },
          "metadata": {
            "tags": []
          },
          "execution_count": 30
        }
      ]
    },
    {
      "cell_type": "markdown",
      "metadata": {
        "id": "6LzjK_KmT6Se"
      },
      "source": [
        "6. Write a Python program to convert a tuple to a string."
      ]
    },
    {
      "cell_type": "code",
      "metadata": {
        "colab": {
          "base_uri": "https://localhost:8080/"
        },
        "id": "Axf_X3aQT9jy",
        "outputId": "5fb02551-5483-47b7-d0b9-96fa4c12dfc1"
      },
      "source": [
        "tup = ('e', 'x', 'e', 'r', 'c', 'i', 's', 'e', 's')\n",
        "str =  ''.join(tup)\n",
        "print(str)"
      ],
      "execution_count": null,
      "outputs": [
        {
          "output_type": "stream",
          "text": [
            "exercises\n"
          ],
          "name": "stdout"
        }
      ]
    },
    {
      "cell_type": "markdown",
      "metadata": {
        "id": "1CGXZa04WGth"
      },
      "source": [
        "7. Write a Python program to get the 4th element and 4th element from last of a tuple."
      ]
    },
    {
      "cell_type": "code",
      "metadata": {
        "colab": {
          "base_uri": "https://localhost:8080/"
        },
        "id": "bUuzq6_eWHYF",
        "outputId": "3fec9860-f2a4-4834-ce02-ad8471d4f772"
      },
      "source": [
        "tup = tuple(np.random.randint(100,size = 20))\n",
        "\n",
        "print('tup :- ',tup)\n",
        "print('4th from top :- ',tup[3])\n",
        "print('4th from last :- ',tup[-4])"
      ],
      "execution_count": null,
      "outputs": [
        {
          "output_type": "stream",
          "text": [
            "tup :-  (93, 6, 65, 92, 16, 8, 15, 52, 39, 74, 95, 68, 97, 36, 23, 3, 11, 59, 60, 57)\n",
            "4th from top :-  92\n",
            "4th from last :-  11\n"
          ],
          "name": "stdout"
        }
      ]
    },
    {
      "cell_type": "markdown",
      "metadata": {
        "id": "2MEktanfWqTX"
      },
      "source": [
        "8. Write a Python program to create the colon of a tuple."
      ]
    },
    {
      "cell_type": "code",
      "metadata": {
        "colab": {
          "base_uri": "https://localhost:8080/"
        },
        "id": "n7OOc5NkWrHr",
        "outputId": "b6e93aeb-ee25-451a-9659-1ca7e07dae0b"
      },
      "source": [
        "from copy import deepcopy\n",
        "\n",
        "tup = tuple(np.random.randint(100,size = 20))\n",
        "tup1 = deepcopy(tup)\n",
        "\n",
        "tup = tup + ('amar','jadhav')\n",
        "print(tup,tup1,sep=\"\\n\")"
      ],
      "execution_count": null,
      "outputs": [
        {
          "output_type": "stream",
          "text": [
            "(68, 31, 51, 93, 67, 41, 84, 31, 52, 26, 74, 65, 10, 52, 48, 82, 37, 4, 73, 13, 'amar', 'jadhav')\n",
            "(68, 31, 51, 93, 67, 41, 84, 31, 52, 26, 74, 65, 10, 52, 48, 82, 37, 4, 73, 13)\n"
          ],
          "name": "stdout"
        }
      ]
    },
    {
      "cell_type": "markdown",
      "metadata": {
        "id": "xuBij7sFYI_t"
      },
      "source": [
        "9. Write a Python program to find the repeated items of a tuple."
      ]
    },
    {
      "cell_type": "code",
      "metadata": {
        "colab": {
          "base_uri": "https://localhost:8080/"
        },
        "id": "BzdV8C0wYJhs",
        "outputId": "cc65907f-b1df-4428-cd7e-9256435e3b3a"
      },
      "source": [
        "tup = (1,2,3,4,4,5,6,4)\n",
        "tup.count(4)"
      ],
      "execution_count": null,
      "outputs": [
        {
          "output_type": "execute_result",
          "data": {
            "text/plain": [
              "3"
            ]
          },
          "metadata": {
            "tags": []
          },
          "execution_count": 62
        }
      ]
    },
    {
      "cell_type": "markdown",
      "metadata": {
        "id": "_dfMqnNjY1L9"
      },
      "source": [
        "10. Write a Python program to check whether an element exists within a tuple."
      ]
    },
    {
      "cell_type": "code",
      "metadata": {
        "colab": {
          "base_uri": "https://localhost:8080/"
        },
        "id": "vOgyoll5ZDHm",
        "outputId": "4bc5f8d7-f881-48c0-9580-251aa282702c"
      },
      "source": [
        "tup = (1,2,3,4,4,5,6,4)\n",
        "n = int(input('Enter your number'))\n",
        "\n",
        "# Version 1\n",
        "\n",
        "try :\n",
        "  tup.index(n)\n",
        "except Exception as arg:\n",
        "  print(n,\"does not present in the list\")\n",
        "else :\n",
        "  print(n,\"present in the list\")\n",
        "\n",
        "# Version 2\n",
        "\n",
        "print(n in tup)\n"
      ],
      "execution_count": null,
      "outputs": [
        {
          "output_type": "stream",
          "text": [
            "Enter your number10\n",
            "10 does not present in the list\n",
            "False\n"
          ],
          "name": "stdout"
        }
      ]
    },
    {
      "cell_type": "markdown",
      "metadata": {
        "id": "MQqZSL5TbF7k"
      },
      "source": [
        "11. Write a Python program to convert a list to a tuple."
      ]
    },
    {
      "cell_type": "code",
      "metadata": {
        "colab": {
          "base_uri": "https://localhost:8080/"
        },
        "id": "qB-ymp5XbJm8",
        "outputId": "2327b611-dc9b-4098-fe02-dd60881f8654"
      },
      "source": [
        "tup = list(np.random.randint(100,size = 20))\n",
        "print('list :- ',tup)\n",
        "print('tuple :- ',tuple(tup))"
      ],
      "execution_count": null,
      "outputs": [
        {
          "output_type": "stream",
          "text": [
            "list :-  [13, 79, 79, 95, 49, 59, 86, 57, 13, 35, 76, 58, 51, 13, 57, 70, 87, 13, 96, 22]\n",
            "tuple :-  (13, 79, 79, 95, 49, 59, 86, 57, 13, 35, 76, 58, 51, 13, 57, 70, 87, 13, 96, 22)\n"
          ],
          "name": "stdout"
        }
      ]
    },
    {
      "cell_type": "markdown",
      "metadata": {
        "id": "a-vCLSz3bnDf"
      },
      "source": [
        "12. Write a Python program to remove an item from a tuple"
      ]
    },
    {
      "cell_type": "code",
      "metadata": {
        "colab": {
          "base_uri": "https://localhost:8080/"
        },
        "id": "mu2EKtKobnkw",
        "outputId": "267bc5b5-389e-43c1-aabe-53f8ee1f7938"
      },
      "source": [
        "tup = (13, 79, 79, 95, 49, 59, 86, 57, 13, 35, 76, 58, 51, 13, 57, 70, 87, 13, 96, 22)\n",
        "\n",
        "tup_l = list(tup)\n",
        "tup_l.remove(59)\n",
        "\n",
        "tup = tuple(tup_l)\n",
        "print(tup)\n"
      ],
      "execution_count": null,
      "outputs": [
        {
          "output_type": "stream",
          "text": [
            "(13, 79, 79, 95, 49, 86, 57, 13, 35, 76, 58, 51, 13, 57, 70, 87, 13, 96, 22)\n"
          ],
          "name": "stdout"
        }
      ]
    },
    {
      "cell_type": "markdown",
      "metadata": {
        "id": "wp0nViY3cc0w"
      },
      "source": [
        "13. Write a Python program to slice a tuple."
      ]
    },
    {
      "cell_type": "code",
      "metadata": {
        "colab": {
          "base_uri": "https://localhost:8080/"
        },
        "id": "o5c0Aql4cdaG",
        "outputId": "06e759b2-1c04-41f6-9793-147c84411da9"
      },
      "source": [
        "tup = (13, 79, 79, 95, 49, 59, 86, 57, 13, 35, 76, 58, 51, 13, 57, 70, 87, 13, 96, 22)\n",
        "\n",
        "tup[0:5]"
      ],
      "execution_count": null,
      "outputs": [
        {
          "output_type": "execute_result",
          "data": {
            "text/plain": [
              "(13, 79, 79, 95, 49)"
            ]
          },
          "metadata": {
            "tags": []
          },
          "execution_count": 81
        }
      ]
    },
    {
      "cell_type": "markdown",
      "metadata": {
        "id": "zRCi6Wpyft-p"
      },
      "source": [
        "14. Write a Python program to find the index of an item of a tuple."
      ]
    },
    {
      "cell_type": "code",
      "metadata": {
        "colab": {
          "base_uri": "https://localhost:8080/"
        },
        "id": "Pbv7GEbCfuxC",
        "outputId": "003fce92-12a9-4d70-d2fd-c82f04959724"
      },
      "source": [
        "tup = (13, 79, 79, 95, 49, 59, 86, 57, 13, 35, 76, 58, 51, 13, 57, 70, 87, 13, 96, 22)\n",
        "\n",
        "tup.index(79)"
      ],
      "execution_count": null,
      "outputs": [
        {
          "output_type": "execute_result",
          "data": {
            "text/plain": [
              "1"
            ]
          },
          "metadata": {
            "tags": []
          },
          "execution_count": 83
        }
      ]
    },
    {
      "cell_type": "markdown",
      "metadata": {
        "id": "L2Z_I7Wof6v_"
      },
      "source": [
        "15. Write a Python program to find the length of a tuple."
      ]
    },
    {
      "cell_type": "code",
      "metadata": {
        "colab": {
          "base_uri": "https://localhost:8080/"
        },
        "id": "DtqXm4otf7Vt",
        "outputId": "ebd2d572-3590-470d-a027-83db3e8598b0"
      },
      "source": [
        "tup = (13, 79, 79, 95, 49, 59, 86, 57, 13, 35, 76, 58, 51, 13, 57, 70, 87, 13, 96, 22)\n",
        "\n",
        "len(tup)"
      ],
      "execution_count": null,
      "outputs": [
        {
          "output_type": "execute_result",
          "data": {
            "text/plain": [
              "20"
            ]
          },
          "metadata": {
            "tags": []
          },
          "execution_count": 84
        }
      ]
    },
    {
      "cell_type": "markdown",
      "metadata": {
        "id": "c0Eyadc4gDZ1"
      },
      "source": [
        "16. Write a Python program to convert a tuple to a dictionary."
      ]
    },
    {
      "cell_type": "code",
      "metadata": {
        "colab": {
          "base_uri": "https://localhost:8080/"
        },
        "id": "g7b_imkOgEDf",
        "outputId": "93e0617a-c510-469e-9b3f-985d5f34d470"
      },
      "source": [
        "tup = (13, 79, 79, 95, 49, 59, 86, 57, 13, 35, 76, 58, 51, 13, 57, 70, 87, 13, 96, 22)\n",
        "\n",
        "dic = {i:tup[i] for i in range(len(tup))}\n",
        "dic"
      ],
      "execution_count": null,
      "outputs": [
        {
          "output_type": "execute_result",
          "data": {
            "text/plain": [
              "{0: 13,\n",
              " 1: 79,\n",
              " 2: 79,\n",
              " 3: 95,\n",
              " 4: 49,\n",
              " 5: 59,\n",
              " 6: 86,\n",
              " 7: 57,\n",
              " 8: 13,\n",
              " 9: 35,\n",
              " 10: 76,\n",
              " 11: 58,\n",
              " 12: 51,\n",
              " 13: 13,\n",
              " 14: 57,\n",
              " 15: 70,\n",
              " 16: 87,\n",
              " 17: 13,\n",
              " 18: 96,\n",
              " 19: 22}"
            ]
          },
          "metadata": {
            "tags": []
          },
          "execution_count": 98
        }
      ]
    },
    {
      "cell_type": "markdown",
      "metadata": {
        "id": "D6rYNDpqhiXn"
      },
      "source": [
        "17. Write a Python program to unzip a list of tuples into individual lists."
      ]
    },
    {
      "cell_type": "code",
      "metadata": {
        "colab": {
          "base_uri": "https://localhost:8080/"
        },
        "id": "4rn-BfGbhi2o",
        "outputId": "40664b9b-da33-41d0-ffd6-2e580f876c8d"
      },
      "source": [
        "l = [(1,2),(2,3),(3,4)]\n",
        "\n",
        "t1,t2,t3 = l\n",
        "print(list(t1),list(t2),list(t3))"
      ],
      "execution_count": null,
      "outputs": [
        {
          "output_type": "stream",
          "text": [
            "[1, 2] [2, 3] [3, 4]\n"
          ],
          "name": "stdout"
        }
      ]
    },
    {
      "cell_type": "markdown",
      "metadata": {
        "id": "xLX2EVqHiWeP"
      },
      "source": [
        "18. Write a Python program to reverse a tuple."
      ]
    },
    {
      "cell_type": "code",
      "metadata": {
        "colab": {
          "base_uri": "https://localhost:8080/"
        },
        "id": "pZzIs_BGiaBL",
        "outputId": "dafc9db1-8676-4c7b-f5fc-6569b51ebe0a"
      },
      "source": [
        "tup = (13, 79, 79, 95, 49, 59, 86, 57, 13, 35, 76, 58, 51, 13, 57, 70, 87, 13, 96, 22)\n",
        "tup = tup[::-1]\n",
        "print(tup)"
      ],
      "execution_count": null,
      "outputs": [
        {
          "output_type": "stream",
          "text": [
            "(22, 96, 13, 87, 70, 57, 13, 51, 58, 76, 35, 13, 57, 86, 59, 49, 95, 79, 79, 13)\n"
          ],
          "name": "stdout"
        }
      ]
    },
    {
      "cell_type": "markdown",
      "metadata": {
        "id": "oEDZ4m3Mip_-"
      },
      "source": [
        "19. Write a Python program to convert a list of tuples into a dictionary."
      ]
    },
    {
      "cell_type": "code",
      "metadata": {
        "colab": {
          "base_uri": "https://localhost:8080/"
        },
        "id": "pAQ-aWvqiqw-",
        "outputId": "848e3bd3-e824-4b13-f819-fca11f0b51f6"
      },
      "source": [
        "l = [(1,2),(2,3),(3,4)]\n",
        "\n",
        "dic = {i:j for i,j in l}"
      ],
      "execution_count": null,
      "outputs": [
        {
          "output_type": "execute_result",
          "data": {
            "text/plain": [
              "2"
            ]
          },
          "metadata": {
            "tags": []
          },
          "execution_count": 111
        }
      ]
    },
    {
      "cell_type": "markdown",
      "metadata": {
        "id": "cH2eMRhZkUP_"
      },
      "source": [
        "20. Write a Python program to print a tuple with string formatting.\n",
        "\n",
        "\n",
        "    Sample tuple : (100, 200, 300)\n",
        "    Output : This is a tuple (100, 200, 300)"
      ]
    },
    {
      "cell_type": "code",
      "metadata": {
        "colab": {
          "base_uri": "https://localhost:8080/"
        },
        "id": "mWQ1ZgFOkbi8",
        "outputId": "ad39c27e-dc0c-4748-8155-6dca254b3e2a"
      },
      "source": [
        "tup = (100, 200, 300)\n",
        "\n",
        "print('This is a tuple ',tup)"
      ],
      "execution_count": null,
      "outputs": [
        {
          "output_type": "stream",
          "text": [
            "This is a tuple  (100, 200, 300)\n"
          ],
          "name": "stdout"
        }
      ]
    }
  ]
}