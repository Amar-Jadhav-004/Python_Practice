{
  "nbformat": 4,
  "nbformat_minor": 0,
  "metadata": {
    "colab": {
      "name": "W3 Resources List.ipynb",
      "provenance": [],
      "collapsed_sections": []
    },
    "kernelspec": {
      "name": "python3",
      "display_name": "Python 3"
    },
    "language_info": {
      "name": "python"
    }
  },
  "cells": [
    {
      "cell_type": "markdown",
      "metadata": {
        "id": "XsE8cbPGYqYk"
      },
      "source": [
        "1. Write a Python program to sum all the items in a list."
      ]
    },
    {
      "cell_type": "code",
      "metadata": {
        "id": "Kzdp4QNUYVyF"
      },
      "source": [
        "l= [1,2,3,4,5,6,7,8,9]\n",
        "sum(l)"
      ],
      "execution_count": null,
      "outputs": []
    },
    {
      "cell_type": "markdown",
      "metadata": {
        "id": "A7CHQ6LYYtJd"
      },
      "source": [
        "2. Write a Python program to multiplies all the items in a list."
      ]
    },
    {
      "cell_type": "code",
      "metadata": {
        "id": "6MJ0DevIY0CE"
      },
      "source": [
        "mul=1\n",
        "for i in l:\n",
        "  mul*=i\n",
        "\n",
        "print(mul)  "
      ],
      "execution_count": null,
      "outputs": []
    },
    {
      "cell_type": "markdown",
      "metadata": {
        "id": "6-bacbL9ZUTt"
      },
      "source": [
        "3. Write a Python program to get the largest number from a list."
      ]
    },
    {
      "cell_type": "code",
      "metadata": {
        "id": "zsgQsgbaZTog"
      },
      "source": [
        "max(l)"
      ],
      "execution_count": null,
      "outputs": []
    },
    {
      "cell_type": "markdown",
      "metadata": {
        "id": "8q5aYJpGZf54"
      },
      "source": [
        "4. Write a Python program to get the smallest number from a list."
      ]
    },
    {
      "cell_type": "code",
      "metadata": {
        "id": "Luj9aNBrZgbq"
      },
      "source": [
        "min(l)"
      ],
      "execution_count": null,
      "outputs": []
    },
    {
      "cell_type": "markdown",
      "metadata": {
        "id": "C8jXGQ_gZj24"
      },
      "source": [
        "5. Write a Python program to count the number of strings where the string length is 2 or more and the first and last character are same from a given list of strings.\n",
        "\n",
        "\n",
        "    Sample List : ['abc', 'xyz', 'aba', '1221']\n",
        "\n",
        "    Expected Result : 2"
      ]
    },
    {
      "cell_type": "code",
      "metadata": {
        "id": "y2ZuTiFqZl5s"
      },
      "source": [
        "l= ['abc', 'xyz', 'aba', '1221','noon']\n",
        "counter = 0\n",
        "for i in l:\n",
        "  if i[0]==i[-1] and len(l)>=2:\n",
        "    counter+=1\n",
        "\n",
        "print(counter)"
      ],
      "execution_count": null,
      "outputs": []
    },
    {
      "cell_type": "markdown",
      "metadata": {
        "id": "HXl30gutaj2V"
      },
      "source": [
        "6. Write a Python program to get a list, sorted in increasing order by the last element in each tuple from a given list of non-empty tuples. Go to the editor\n",
        "\n",
        "\n",
        "    Sample List : [(2, 5), (1, 2), (4, 4), (2, 3), (2, 1)]\n",
        "\n",
        "    Expected Result : [(2, 1), (1, 2), (2, 3), (4, 4), (2, 5)]"
      ]
    },
    {
      "cell_type": "code",
      "metadata": {
        "id": "54EWw8-tanBA"
      },
      "source": [
        "original = [(2, 5), (1, 2), (4, 4), (2, 3), (2, 1)]\n",
        "l = [(2, 5), (1, 2), (4, 4), (2, 3), (2, 1)]\n",
        "\n",
        "\n",
        "for i in range(len(l)):\n",
        "  for j in range(len(l)):\n",
        "    if j!=len(l)-1 and l[j+1][-1] > l[j][-1]:\n",
        "      l[j],l[j+1]=l[j+1],l[j]\n",
        "\n",
        "print(l)      "
      ],
      "execution_count": null,
      "outputs": []
    },
    {
      "cell_type": "markdown",
      "metadata": {
        "id": "bbUSrjNnwf8B"
      },
      "source": [
        "7. Write a Python program to remove duplicates from a list."
      ]
    },
    {
      "cell_type": "code",
      "metadata": {
        "id": "ymPv1q5Vwg4a"
      },
      "source": [
        "l = [\"amar\",123,3.14,\"amar\"]\n",
        "\n",
        "print(list(set(l)))"
      ],
      "execution_count": null,
      "outputs": []
    },
    {
      "cell_type": "markdown",
      "metadata": {
        "id": "1Dt-kLfmw46d"
      },
      "source": [
        "8. Write a Python program to check a list is empty or not."
      ]
    },
    {
      "cell_type": "code",
      "metadata": {
        "id": "RTYbQTeOw8hv"
      },
      "source": [
        "l = []\n",
        "\n",
        "# Version 1\n",
        "\n",
        "if not l:\n",
        "  print(\"List is empty\")\n",
        "\n",
        "# Version 2\n",
        "\n",
        "if l==[]:\n",
        "  print(\"List is empty\")\n"
      ],
      "execution_count": null,
      "outputs": []
    },
    {
      "cell_type": "markdown",
      "metadata": {
        "id": "HHp3_7x_xvFP"
      },
      "source": [
        "9. Write a Python program to clone or copy a list."
      ]
    },
    {
      "cell_type": "code",
      "metadata": {
        "id": "qUNmIdwjxpze"
      },
      "source": [
        "l1 = [1,2,3,4,5,6]\n",
        "l2 = l1.copy()\n",
        "\n",
        "l2.append(400)\n",
        "print(l1)\n",
        "print(l2)"
      ],
      "execution_count": null,
      "outputs": []
    },
    {
      "cell_type": "markdown",
      "metadata": {
        "id": "s0YaFfe7y_m0"
      },
      "source": [
        "10. Write a Python program to find the list of words that are longer than n from a given list of words."
      ]
    },
    {
      "cell_type": "code",
      "metadata": {
        "id": "_QMejVUWzAYA"
      },
      "source": [
        "l = [\"amar\",\"Akbar\",\"Anthoney\",\"Jerin\",\"ant\",\"cup\",\"Haikyu\"]\n",
        "\n",
        "n = int(input(\"Enter your wordlength\"))\n",
        "\n",
        "new_l = []\n",
        "for i in l:\n",
        "  if len(i) > n:\n",
        "    new_l.append(i)\n",
        "\n",
        "print(new_l)"
      ],
      "execution_count": null,
      "outputs": []
    },
    {
      "cell_type": "markdown",
      "metadata": {
        "id": "7l5n8Qwy1x2W"
      },
      "source": [
        "11. Write a Python function that takes two lists and returns True if they have at least one common member"
      ]
    },
    {
      "cell_type": "code",
      "metadata": {
        "id": "fXViZ3D922_6"
      },
      "source": [
        "def list_compare(l1,l2):\n",
        "  if set(l1)&set(l2) != set():\n",
        "    return True"
      ],
      "execution_count": null,
      "outputs": []
    },
    {
      "cell_type": "code",
      "metadata": {
        "id": "GfOxovbo3iMs"
      },
      "source": [
        "l1 = [1,2,3,4]\n",
        "l2 = [2,3]\n",
        "\n",
        "print(list_compare(l1,l2))"
      ],
      "execution_count": null,
      "outputs": []
    },
    {
      "cell_type": "markdown",
      "metadata": {
        "id": "xW98lUn34hJA"
      },
      "source": [
        "12. Write a Python program to print a specified list after removing the 0th, 4th and 5th elements.\n",
        "\n",
        "\n",
        "    Sample List : ['Red', 'Green', 'White', 'Black', 'Pink', 'Yellow']\n",
        "\n",
        "    Expected Output : ['Green', 'White', 'Black']"
      ]
    },
    {
      "cell_type": "code",
      "metadata": {
        "id": "0_GlYEY94jPv"
      },
      "source": [
        "# Version 1\n",
        "l = ['Red', 'Green', 'White', 'Black', 'Pink', 'Yellow']\n",
        "\n",
        "l.pop(0)\n",
        "l.pop(4-1)\n",
        "l.pop(5-2)\n",
        "l\n",
        "\n",
        "# Version 2\n",
        "l = ['Red', 'Green', 'White', 'Black', 'Pink', 'Yellow']\n",
        "\n",
        "\n",
        "new_l = [l[i] for i in range(len(l)) if i not in (0,4,5)]\n",
        "new_l"
      ],
      "execution_count": null,
      "outputs": []
    },
    {
      "cell_type": "markdown",
      "metadata": {
        "id": "ada6CeM-7NvI"
      },
      "source": [
        "13. Write a Python program to generate a \n",
        "3 * 4 * 6 \n",
        "3D array whose each element is *."
      ]
    },
    {
      "cell_type": "code",
      "metadata": {
        "id": "JNZWVeUg7OeE"
      },
      "source": [
        "import numpy as np\n",
        "\n",
        "a = ['*']*72\n",
        "\n",
        "np.array(a).reshape(3,4,6)"
      ],
      "execution_count": null,
      "outputs": []
    },
    {
      "cell_type": "markdown",
      "metadata": {
        "id": "pitF2Cdm-F_a"
      },
      "source": [
        "14. Write a Python program to print the numbers of a specified list after removing even numbers from it."
      ]
    },
    {
      "cell_type": "code",
      "metadata": {
        "id": "FtFN4hkc-GPl"
      },
      "source": [
        "l = [1,2,3,4,5,6,7,8,9,0]\n",
        "\n",
        "even_l = [i for i in l if i%2 != 0]\n",
        "print(even_l)"
      ],
      "execution_count": null,
      "outputs": []
    },
    {
      "cell_type": "markdown",
      "metadata": {
        "id": "r-jxhu8q-0wJ"
      },
      "source": [
        "15. Write a Python program to shuffle and print a specified list."
      ]
    },
    {
      "cell_type": "code",
      "metadata": {
        "id": "ZQEn0YSL-7yU"
      },
      "source": [
        "import random as r\n",
        "\n",
        "l = [0,1,2,3,4,5,6,7,8,9]\n",
        "\n",
        "r.shuffle(l)\n",
        "print(l)\n"
      ],
      "execution_count": null,
      "outputs": []
    },
    {
      "cell_type": "markdown",
      "metadata": {
        "id": "ZASEfD-2_55o"
      },
      "source": [
        "16. Write a Python program to generate and print a list of first and last 5 elements where the values are square of numbers between 1 and 30 (both included)."
      ]
    },
    {
      "cell_type": "code",
      "metadata": {
        "id": "d5-7FEsm_-Cr"
      },
      "source": [
        "import numpy as np\n",
        "\n",
        "l = list(np.random.randint(10,100,size = np.random.randint(10,30)))\n",
        "square_l = [i**2 for i in range(1,31)]\n",
        "\n",
        "temp_l = l[0:5]+l[-1:-6]\n",
        "final_l = [i for i in temp_l if i in square_l]\n",
        "\n",
        "print('l:- ',l)\n",
        "print('square_l :- ',square_l)\n",
        "print('final_l :- ',final_l)"
      ],
      "execution_count": null,
      "outputs": []
    },
    {
      "cell_type": "markdown",
      "metadata": {
        "id": "UQ3jGi-CKxE1"
      },
      "source": [
        "17. Write a Python program to generate and print a list except for the first 5 elements, where the values are square of numbers between 1 and 30 (both included)."
      ]
    },
    {
      "cell_type": "code",
      "metadata": {
        "id": "BKuihmqgKzrn"
      },
      "source": [
        "import numpy as np\n",
        "\n",
        "l = list(np.random.randint(10,100,size = np.random.randint(10,30)))\n",
        "square_l = [i**2 for i in range(1,31)]\n",
        "\n",
        "temp_l = l[5:len(l)]\n",
        "final_l = [i for i in temp_l if i in square_l]\n",
        "\n",
        "print('l:- ',l)\n",
        "print('square_l :- ',square_l)\n",
        "print('final_l :- ',final_l)"
      ],
      "execution_count": null,
      "outputs": []
    },
    {
      "cell_type": "markdown",
      "metadata": {
        "id": "3aV0sR8BL57A"
      },
      "source": [
        "18. Write a Python program to generate all permutations of a list in Python."
      ]
    },
    {
      "cell_type": "code",
      "metadata": {
        "id": "LGXtAbifMASd"
      },
      "source": [
        "l1 = list(np.arange(1,6))\n",
        "l = list(np.random.randint(100,size = 20))\n",
        "new_l = []\n",
        "\n",
        "for i in l1:\n",
        "  for j in l1:\n",
        "\n",
        "    if i != j: \n",
        "      new_l.append([i,j])\n",
        "\n",
        "print(new_l)    "
      ],
      "execution_count": null,
      "outputs": []
    },
    {
      "cell_type": "markdown",
      "metadata": {
        "id": "Fb76hnTlNQsB"
      },
      "source": [
        "19. Write a Python program to get the difference between the two lists."
      ]
    },
    {
      "cell_type": "code",
      "metadata": {
        "id": "E6uB-SHlNRYL"
      },
      "source": [
        "l1 = list(np.random.randint(100,size = 20))\n",
        "l2 = list(np.random.randint(100,size = 30))\n",
        "\n",
        "print('l1:- ',l1)\n",
        "print('l2:- ',l2)\n",
        "\n",
        "print('Common :- ',list(set(l1)&set(l2)))\n",
        "print('difference :- ',list(set(l1)^set(l2)))"
      ],
      "execution_count": null,
      "outputs": []
    },
    {
      "cell_type": "markdown",
      "metadata": {
        "id": "uH2KJthXOoaw"
      },
      "source": [
        "20. Write a Python program access the index of a list."
      ]
    },
    {
      "cell_type": "code",
      "metadata": {
        "id": "YQ0rTH2hOtWf"
      },
      "source": [
        "l1 = list(np.random.randint(100,size = 20))\n",
        "\n",
        "for i in range(len(l1)):\n",
        "  print('index :- ',i,' value :- ',l1[i])"
      ],
      "execution_count": null,
      "outputs": []
    }
  ]
}