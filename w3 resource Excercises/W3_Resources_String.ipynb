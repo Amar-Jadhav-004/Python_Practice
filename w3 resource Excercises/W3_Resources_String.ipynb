{
  "nbformat": 4,
  "nbformat_minor": 0,
  "metadata": {
    "colab": {
      "name": "W3 Resources String.ipynb",
      "provenance": [],
      "collapsed_sections": []
    },
    "kernelspec": {
      "name": "python3",
      "display_name": "Python 3"
    },
    "language_info": {
      "name": "python"
    }
  },
  "cells": [
    {
      "cell_type": "markdown",
      "metadata": {
        "id": "C226q3ZLog0U"
      },
      "source": [
        "1. Write a Python program to calculate the length of a string."
      ]
    },
    {
      "cell_type": "code",
      "metadata": {
        "colab": {
          "base_uri": "https://localhost:8080/"
        },
        "id": "M6fvQTjBoWjm",
        "outputId": "70d8e4cb-134a-4da2-8ef0-d00e7a46278a"
      },
      "source": [
        "s = 'Naruto is greatest anime of all time'\n",
        "len(s)"
      ],
      "execution_count": null,
      "outputs": [
        {
          "output_type": "execute_result",
          "data": {
            "text/plain": [
              "36"
            ]
          },
          "metadata": {
            "tags": []
          },
          "execution_count": 1
        }
      ]
    },
    {
      "cell_type": "markdown",
      "metadata": {
        "id": "pFrgY1tNoyil"
      },
      "source": [
        "2. Write a Python program to count the number of characters (character frequency) in a string.\n",
        "\n",
        "\n",
        "    Sample String : google.com'\n",
        "    Expected Result : {'g': 2, 'o': 3, 'l': 1, 'e': 1, '.': 1, 'c': 1, 'm': 1}"
      ]
    },
    {
      "cell_type": "code",
      "metadata": {
        "colab": {
          "base_uri": "https://localhost:8080/"
        },
        "id": "K65qca8ho3Yd",
        "outputId": "dd530264-3d52-42aa-91b2-b21432ae48e4"
      },
      "source": [
        "s = 'google.com'\n",
        "dic = {}\n",
        "\n",
        "for i in s:\n",
        "  dic[i] = s.count(i)\n",
        "\n",
        "print(dic)"
      ],
      "execution_count": null,
      "outputs": [
        {
          "output_type": "stream",
          "text": [
            "{'g': 2, 'o': 3, 'l': 1, 'e': 1, '.': 1, 'c': 1, 'm': 1}\n"
          ],
          "name": "stdout"
        }
      ]
    },
    {
      "cell_type": "markdown",
      "metadata": {
        "id": "OAlwHeWWpnxB"
      },
      "source": [
        "3. Write a Python program to get a string made of the first 2 and the last 2 chars from a given a string. If the string length is less than 2, return instead of the empty string. Go to the editor\n",
        "\n",
        "\n",
        "    Sample String : 'w3resource'\n",
        "    Expected Result : 'w3ce'\n",
        "\n",
        "    Sample String : 'w3'\n",
        "    Expected Result : 'w3w3'\n",
        "\n",
        "    Sample String : ' w'\n",
        "    Expected Result : Empty String"
      ]
    },
    {
      "cell_type": "code",
      "metadata": {
        "colab": {
          "base_uri": "https://localhost:8080/"
        },
        "id": "IiqA7lNBpulp",
        "outputId": "62ae189b-9f2e-425c-950b-59aac1630487"
      },
      "source": [
        "s = input(\"Enter your string\")\n",
        "\n",
        "if len(s) >= 2:\n",
        "  final_string = s[0:2]+s[len(s)-2:len(s)]\n",
        "  print(final_string)\n",
        "else :\n",
        "  print('Empty string :-',[])  "
      ],
      "execution_count": null,
      "outputs": [
        {
          "output_type": "stream",
          "text": [
            "Enter your stringw\n",
            "Empty string :- []\n"
          ],
          "name": "stdout"
        }
      ]
    },
    {
      "cell_type": "markdown",
      "metadata": {
        "id": "GtYHwx-kr9aF"
      },
      "source": [
        "4. Write a Python program to get a string from a given string where all occurrences of its first char have been changed to '$', except the first char itself.\n",
        "\n",
        "\n",
        "    Sample String : 'restart'\n",
        "    Expected Result : 'resta$t'"
      ]
    },
    {
      "cell_type": "code",
      "metadata": {
        "colab": {
          "base_uri": "https://localhost:8080/",
          "height": 69
        },
        "id": "VEWxtdTisABV",
        "outputId": "3dfddb09-d96a-427a-ecb1-c4bcd063e241"
      },
      "source": [
        "s = input(\"Enter the string\")\n",
        "c = input(\"Enter the character\")\n",
        "s[:s.index(c)+1]+s[s.index(c)+1:].replace(c,'$',)"
      ],
      "execution_count": null,
      "outputs": [
        {
          "output_type": "stream",
          "text": [
            "Enter the stringgood morning moombai\n",
            "Enter the charactero\n"
          ],
          "name": "stdout"
        },
        {
          "output_type": "execute_result",
          "data": {
            "application/vnd.google.colaboratory.intrinsic+json": {
              "type": "string"
            },
            "text/plain": [
              "'go$d m$rning m$$mbai'"
            ]
          },
          "metadata": {
            "tags": []
          },
          "execution_count": 30
        }
      ]
    },
    {
      "cell_type": "markdown",
      "metadata": {
        "id": "5Den0lZ9vDem"
      },
      "source": [
        "5. Write a Python program to get a single string from two given strings, separated by a space and swap the first two characters of each string.\n",
        "\n",
        "\n",
        "    Sample String : 'abc', 'xyz'\n",
        "    Expected Result : 'xyc abz'"
      ]
    },
    {
      "cell_type": "code",
      "metadata": {
        "colab": {
          "base_uri": "https://localhost:8080/",
          "height": 69
        },
        "id": "G6otQgkhvI0c",
        "outputId": "9c6770d0-9b10-4353-f73f-77ac1c2983e6"
      },
      "source": [
        "s1 = input(\"Enter your first string\")\n",
        "s2 = input(\"Enter your second string\")\n",
        "\n",
        "s2[:2]+s1[2:]+\" \"+s1[:2]+s2[2:]"
      ],
      "execution_count": null,
      "outputs": [
        {
          "output_type": "stream",
          "text": [
            "Enter your first stringabc\n",
            "Enter your second stringxyz\n"
          ],
          "name": "stdout"
        },
        {
          "output_type": "execute_result",
          "data": {
            "application/vnd.google.colaboratory.intrinsic+json": {
              "type": "string"
            },
            "text/plain": [
              "'xyc abz'"
            ]
          },
          "metadata": {
            "tags": []
          },
          "execution_count": 32
        }
      ]
    },
    {
      "cell_type": "markdown",
      "metadata": {
        "id": "1Ehtbjaiv6x8"
      },
      "source": [
        "6. Write a Python program to add 'ing' at the end of a given string (length should be at least 3). If the given string already ends with 'ing' then add 'ly' instead. If the string length of the given string is less than 3, leave it unchanged.\n",
        "\n",
        "\n",
        "    Sample String : 'abc'\n",
        "    Expected Result : 'abcing'\n",
        "\n",
        "    Sample String : 'string'\n",
        "    Expected Result : 'stringly'"
      ]
    },
    {
      "cell_type": "code",
      "metadata": {
        "colab": {
          "base_uri": "https://localhost:8080/"
        },
        "id": "2wQqCkR4wDuv",
        "outputId": "fed03697-ae30-4a9d-9c61-6ac3aa313ecb"
      },
      "source": [
        "s = input(\"Enter your string\")\n",
        "\n",
        "if len(s) >=3 and s[len(s)-3:len(s)]=='ing':\n",
        "  print(s+'ly')\n",
        "elif len(ss) < 3:\n",
        "  print(s)\n",
        "else :\n",
        "  print(s+'ing')   \n"
      ],
      "execution_count": null,
      "outputs": [
        {
          "output_type": "stream",
          "text": [
            "Enter your stringam\n",
            "am\n"
          ],
          "name": "stdout"
        }
      ]
    },
    {
      "cell_type": "markdown",
      "metadata": {
        "id": "ZT5za6Lmxpb7"
      },
      "source": [
        "7. Write a Python program to find the first appearance of the substring 'not' and 'poor' from a given string, if 'not' follows the 'poor', replace the whole 'not'...'poor' substring with 'good'. Return the resulting string.\n",
        "\n",
        "\n",
        "    Sample String : 'The lyrics is not that poor!'\n",
        "    Expected Result : 'The lyrics is good!'\n"
      ]
    },
    {
      "cell_type": "code",
      "metadata": {
        "colab": {
          "base_uri": "https://localhost:8080/"
        },
        "id": "M_38JPodxvU2",
        "outputId": "d3a527ce-a63b-4c94-8aae-83211b7c65cf"
      },
      "source": [
        "s = input(\"Enter your string\")\n",
        "\n",
        "if s.find('not')!= -1 and s.find('not') < s.find('poor'):\n",
        "  print(s[:s.find('not')]+'good')\n",
        "else :\n",
        "  print(s)  \n"
      ],
      "execution_count": null,
      "outputs": [
        {
          "output_type": "stream",
          "text": [
            "Enter your stringThe lyrics is poor!\n",
            "The lyrics is poor!\n"
          ],
          "name": "stdout"
        }
      ]
    },
    {
      "cell_type": "markdown",
      "metadata": {
        "id": "pkK3ES07zORO"
      },
      "source": [
        "8. Write a Python function that takes a list of words and returns the longest word and the length of the longest one.\n",
        "\n",
        "\n",
        "    Sample Output:\n",
        "    Longest word: Exercises\n",
        "    Length of the longest word: 9"
      ]
    },
    {
      "cell_type": "code",
      "metadata": {
        "colab": {
          "base_uri": "https://localhost:8080/"
        },
        "id": "uzVGTvZ-zRs9",
        "outputId": "2a0de6a4-93bf-4577-a190-f491df76aaeb"
      },
      "source": [
        "s = input(\"Enter your string\")\n",
        "\n",
        "l = s.split()\n",
        "\n",
        "max = 0\n",
        "max_word = ''\n",
        "for i in l:\n",
        "  if len(i)> max:\n",
        "    max = len(i)\n",
        "    max_word = i\n",
        "\n",
        "print(\"Longest word:\",max_word)\n",
        "print(\"Length of the longest word:\",max)   \n"
      ],
      "execution_count": null,
      "outputs": [
        {
          "output_type": "stream",
          "text": [
            "Enter your stringAmar Manojkumar Jadhav\n",
            "Longest word: Manojkumar\n",
            "Length of the longest word: 10\n"
          ],
          "name": "stdout"
        }
      ]
    },
    {
      "cell_type": "markdown",
      "metadata": {
        "id": "d8Bzp4Ec0UD4"
      },
      "source": [
        "9. Write a Python program to remove the nth index character from a nonempty string."
      ]
    },
    {
      "cell_type": "code",
      "metadata": {
        "colab": {
          "base_uri": "https://localhost:8080/"
        },
        "id": "P3wUukOt0UyS",
        "outputId": "65c6b412-890e-432a-d45b-c3a7ee230a3c"
      },
      "source": [
        "s = input(\"Enter your string\")\n",
        "n = int(input(\"Enter index\"))\n",
        "\n",
        "print(s[:n]+s[n+1:])"
      ],
      "execution_count": null,
      "outputs": [
        {
          "output_type": "stream",
          "text": [
            "Enter your stringAmar Jadhav\n",
            "Enter index4\n",
            "AmarJadhav\n"
          ],
          "name": "stdout"
        }
      ]
    },
    {
      "cell_type": "markdown",
      "metadata": {
        "id": "e0_AEUox2SYk"
      },
      "source": [
        "10. Write a Python program to change a given string to a new string where the first and last chars have been exchanged."
      ]
    },
    {
      "cell_type": "code",
      "metadata": {
        "colab": {
          "base_uri": "https://localhost:8080/"
        },
        "id": "n-kpoTKz2TO8",
        "outputId": "ec7fe7f3-6985-4ab8-8b1a-d3044daa4620"
      },
      "source": [
        "s = input(\"Enter your string\")\n",
        "print(s[len(s)-1]+s[1:len(s)-1]+s[0])"
      ],
      "execution_count": null,
      "outputs": [
        {
          "output_type": "stream",
          "text": [
            "Enter your stringnoon\n",
            "noon\n"
          ],
          "name": "stdout"
        }
      ]
    }
  ]
}