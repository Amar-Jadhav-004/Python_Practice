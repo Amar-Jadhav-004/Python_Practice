{
  "nbformat": 4,
  "nbformat_minor": 0,
  "metadata": {
    "colab": {
      "name": "Bank Account & Atm Application.ipynb",
      "provenance": [],
      "collapsed_sections": []
    },
    "kernelspec": {
      "name": "python3",
      "display_name": "Python 3"
    },
    "language_info": {
      "name": "python"
    }
  },
  "cells": [
    {
      "cell_type": "code",
      "metadata": {
        "id": "TS0cT5fuXvuA"
      },
      "source": [
        "## Creating Account class\n",
        "\n",
        "class Account :\n",
        "  counter = 0\n",
        "  def __init__(self,n,b):\n",
        "    self.__name = n\n",
        "    self.__balance = b\n",
        "    Account.counter+=1\n",
        "    self._account_no = Account.counter+202100  \n",
        "\n",
        "  def deposite(self,deposite):\n",
        "    if deposite > 0 :\n",
        "      self.__balance = self.__balance + deposite\n",
        "      return \"Amount of \"+str(deposite)+\" is added to balance. Your new balance is \"+str(self.__balance)\n",
        "    else :\n",
        "      return \"Deposite amount is in Negative\"\n",
        "\n",
        "  def withdraw(self,withdraw):\n",
        "    if self.__balance < 1000:\n",
        "      return \"Your balance is below 1000. You Can not withdraw\"\n",
        "    else :\n",
        "      self.__balance = self.__balance - withdraw\n",
        "      return \"Amount of \"+str(withdraw)+\" is withdrawn from balance. Your new balance is \"+str(self.__balance)\n",
        "\n",
        "  def balance(self):\n",
        "    return self.__balance             \n",
        "\n"
      ],
      "execution_count": null,
      "outputs": []
    },
    {
      "cell_type": "code",
      "metadata": {
        "id": "CwFSHT0pXyIW"
      },
      "source": [
        "## Creating Customer database\n",
        "customer_data = {}\n",
        "\n",
        "for i in range(10):\n",
        "  name = input(\"Enter Customer name :- \")\n",
        "  balance = float(input(\"Enter Customer balance :- \"))\n",
        "  obj = Account(name,balance)\n",
        "  customer_data[obj._account_no] = obj"
      ],
      "execution_count": null,
      "outputs": []
    },
    {
      "cell_type": "code",
      "metadata": {
        "id": "VNxrKavcXzE4"
      },
      "source": [
        "## Atm Application\n",
        "\n",
        "account_no = int(input(\"Enter your account no :- \"))\n",
        "i=int(input(\"1.balance 2.deposite 3.withdraw :- \"))\n",
        "\n",
        "if i==1:\n",
        "    print(customer_data[account_no].balance())\n",
        "elif i==2:\n",
        "    deposite_amount = float(input(\"Enter your amount to be deposited :- \"))\n",
        "    print(customer_data[account_no].deposite(deposite_amount))\n",
        "else:\n",
        "    withdraw_amount = float(input(\"Enter your amount to be withdrawn :- \"))\n",
        "    print(customer_data[account_no].withdraw(withdraw_amount))"
      ],
      "execution_count": null,
      "outputs": []
    }
  ]
}