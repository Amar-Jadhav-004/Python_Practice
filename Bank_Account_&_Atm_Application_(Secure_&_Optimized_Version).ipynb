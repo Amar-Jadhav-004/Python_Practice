{
  "nbformat": 4,
  "nbformat_minor": 0,
  "metadata": {
    "colab": {
      "name": "Bank Account & Atm Application (Secure & Optimized Version).ipynb",
      "provenance": [],
      "collapsed_sections": []
    },
    "kernelspec": {
      "name": "python3",
      "display_name": "Python 3"
    },
    "language_info": {
      "name": "python"
    }
  },
  "cells": [
    {
      "cell_type": "code",
      "metadata": {
        "id": "xnblVYdp20SD"
      },
      "source": [
        "## Creating Account class\n",
        "\n",
        "class Account :\n",
        "  __counter = 0\n",
        "  __customer_database = {}\n",
        "\n",
        "  def __init__(self,n,b):\n",
        "    self.__name = n\n",
        "    self.__balance = b\n",
        "    Account.__counter+=1\n",
        "    self._account_no = Account.__counter+202100\n",
        "    Account.__customer_database[self._account_no] = self\n",
        "\n",
        "\n",
        "  def balance(account_no):\n",
        "\n",
        "    customer_account = Account.__customer_database[account_no]  \n",
        "    return customer_account.__balance\n",
        "\n",
        "\n",
        "  def deposite(account_no,deposite):\n",
        "\n",
        "    customer_account = Account.__customer_database[account_no]  \n",
        "\n",
        "    if deposite > 0 :\n",
        "      customer_account.__balance = customer_account.__balance + deposite\n",
        "      return \"Amount of \"+str(deposite)+\" is added to balance. Your new balance is \"+str(customer_account.__balance)\n",
        "    else :\n",
        "      return \"Deposite amount is in Negative\"\n",
        "\n",
        "\n",
        "  def withdraw(account_no,withdraw):\n",
        "\n",
        "    customer_account = Account.__customer_database[account_no]  \n",
        "\n",
        "    if customer_account.__balance < 1000:\n",
        "      return \"Your balance is below 1000. You Can not withdraw\"\n",
        "    else :\n",
        "      customer_account.__balance = customer_account.__balance - withdraw\n",
        "      return \"Amount of \"+str(withdraw)+\" is withdrawn from balance. Your new balance is \"+str(customer_account.__balance)         \n",
        "\n"
      ],
      "execution_count": null,
      "outputs": []
    },
    {
      "cell_type": "code",
      "metadata": {
        "id": "mnBzzib122lR"
      },
      "source": [
        "## Creating Customer database\n",
        "\n",
        "for i in range(3):\n",
        "  name = input(\"Enter Customer name :- \")\n",
        "  balance = float(input(\"Enter Customer balance :- \"))\n",
        "  Account(name,balance)\n",
        "  "
      ],
      "execution_count": null,
      "outputs": []
    },
    {
      "cell_type": "code",
      "metadata": {
        "id": "ByWoAZxL3An4"
      },
      "source": [
        "## Atm Application\n",
        "\n",
        "account_no = int(input(\"Enter your account no :- \"))\n",
        "i=int(input(\"1.balance 2.deposite 3.withdraw :- \"))\n",
        "\n",
        "if i==1:\n",
        "    print(Account.balance(account_no))\n",
        "elif i==2:\n",
        "    deposite_amount = float(input(\"Enter your amount to be deposited :- \"))\n",
        "    print(Account.deposite(account_no,deposite_amount))\n",
        "else:\n",
        "    withdraw_amount = float(input(\"Enter your amount to be withdrawn :- \"))\n",
        "    print(Account.withdraw(account_no,withdraw_amount))"
      ],
      "execution_count": null,
      "outputs": []
    }
  ]
}