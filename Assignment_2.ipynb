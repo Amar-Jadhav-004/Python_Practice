{
  "nbformat": 4,
  "nbformat_minor": 0,
  "metadata": {
    "colab": {
      "name": "Assignment 2.ipynb",
      "provenance": [],
      "collapsed_sections": []
    },
    "kernelspec": {
      "name": "python3",
      "display_name": "Python 3"
    },
    "language_info": {
      "name": "python"
    }
  },
  "cells": [
    {
      "cell_type": "markdown",
      "metadata": {
        "id": "67vRe_llWUsD"
      },
      "source": [
        "Write a Python program to get a list, sorted in increasing order by the last element in each tuple from a\n",
        "given list of non-empty tuples.\n",
        "\n",
        "Sample List : [(2, 5), (1, 2), (4, 4), (2, 3), (2, 1)]\n",
        "\n",
        "Expected Result : [(2, 1), (1, 2), (2, 3), (4, 4), (2, 5)]"
      ]
    },
    {
      "cell_type": "code",
      "metadata": {
        "colab": {
          "base_uri": "https://localhost:8080/"
        },
        "id": "L4YTuvoSWN4y",
        "outputId": "e009715f-1ccd-4b05-d8af-d9a2165128bc"
      },
      "source": [
        "# Using Bubble Sort\n",
        "l = [(2, 5), (1, 2), (4, 4), (2, 3), (2, 1)]\n",
        "\n",
        "for i in range(len(l)):\n",
        "  for j in range(len(l)):\n",
        "    if j!=len(l)-1 and l[j][1] > l[j+1][1]:\n",
        "      l[j],l[j+1]=l[j+1],l[j]\n",
        "\n",
        "print(l)"
      ],
      "execution_count": 44,
      "outputs": [
        {
          "output_type": "stream",
          "text": [
            "[(2, 1), (1, 2), (2, 3), (4, 4), (2, 5)]\n"
          ],
          "name": "stdout"
        }
      ]
    },
    {
      "cell_type": "markdown",
      "metadata": {
        "id": "DpwufehChnIJ"
      },
      "source": [
        "Write a Python program to get the difference between the two lists.\n",
        "\n",
        "list1 = [1, 3, 5, 7, 9]\n",
        "\n",
        "list2 = [1, 2, 4, 6, 7, 8]\n",
        "\n",
        "O/P\n",
        "[9, 3, 5, 8, 2, 4, 6]"
      ]
    },
    {
      "cell_type": "code",
      "metadata": {
        "colab": {
          "base_uri": "https://localhost:8080/"
        },
        "id": "LR6-MfSyhoch",
        "outputId": "d4b579d9-ca6e-49fb-caf3-b7d87ee44e57"
      },
      "source": [
        "list1 = [1, 3, 5, 7, 9]\n",
        "\n",
        "list2 = [1, 2, 4, 6, 7, 8]\n",
        "\n",
        "print(list(set(list1)^set(list2)))"
      ],
      "execution_count": 47,
      "outputs": [
        {
          "output_type": "stream",
          "text": [
            "[2, 3, 4, 5, 6, 8, 9]\n"
          ],
          "name": "stdout"
        }
      ]
    },
    {
      "cell_type": "markdown",
      "metadata": {
        "id": "DW_GQwsCigkd"
      },
      "source": [
        "Write a Python program to find the second smallest number in a list.\n",
        "\n",
        "EXAMPLE\n",
        "[1, 2, -8, -2, 3]\n",
        "\n",
        "O/P\n",
        "-2"
      ]
    },
    {
      "cell_type": "code",
      "metadata": {
        "colab": {
          "base_uri": "https://localhost:8080/"
        },
        "id": "fY0FeybditNQ",
        "outputId": "9a8e5dd3-db53-4b3a-e398-2e9bf3c10a43"
      },
      "source": [
        "l = [1, 2, -8, -2, 3]\n",
        "\n",
        "print(sorted(l)[1])"
      ],
      "execution_count": 48,
      "outputs": [
        {
          "output_type": "stream",
          "text": [
            "-2\n"
          ],
          "name": "stdout"
        }
      ]
    },
    {
      "cell_type": "markdown",
      "metadata": {
        "id": "51OvNP8FjCdc"
      },
      "source": [
        "Write a Python script to concatenate following dictionaries to create a new one.\n",
        "\n",
        "Sample Dictionary :\n",
        "\n",
        "dic1={1:10, 2:20}\n",
        "\n",
        "dic2={3:30, 4:40}\n",
        "\n",
        "dic3={5:50,6:60}\n",
        "\n",
        "Expected Result : {1: 10, 2: 20, 3: 30, 4: 40, 5: 50, 6: 60}"
      ]
    },
    {
      "cell_type": "code",
      "metadata": {
        "colab": {
          "base_uri": "https://localhost:8080/"
        },
        "id": "wCrahVrwjMpw",
        "outputId": "167c465e-9984-4b19-9b24-e458e03a8331"
      },
      "source": [
        "dic1={1:10, 2:20}\n",
        "\n",
        "dic2={3:30, 4:40}\n",
        "\n",
        "dic3={5:50,6:60}\n",
        "\n",
        "l = [dic1,dic2,dic3]\n",
        "fin_dic = {}\n",
        "for i in l:\n",
        "  for keys,values in i.items():\n",
        "    fin_dic[keys]=values\n",
        "\n",
        "print(fin_dic)    "
      ],
      "execution_count": 62,
      "outputs": [
        {
          "output_type": "stream",
          "text": [
            "{1: 10, 2: 20, 3: 30, 4: 40, 5: 50, 6: 60}\n"
          ],
          "name": "stdout"
        }
      ]
    },
    {
      "cell_type": "markdown",
      "metadata": {
        "id": "CNoSJp0q1GuE"
      },
      "source": [
        "Write a Python program to sum all the items in a dictionary."
      ]
    },
    {
      "cell_type": "code",
      "metadata": {
        "colab": {
          "base_uri": "https://localhost:8080/"
        },
        "id": "ww17a75g1KLU",
        "outputId": "811268e3-6c0d-485f-cacd-d6bc5480ef00"
      },
      "source": [
        "l = {1: 10, 2: 20, 3: 30, 4: 40, 5: 50, 6: 60}\n",
        "\n",
        "sum = 0\n",
        "for keys,values in l.items():\n",
        "  sum += values\n",
        "\n",
        "print(sum)  "
      ],
      "execution_count": 68,
      "outputs": [
        {
          "output_type": "stream",
          "text": [
            "210\n"
          ],
          "name": "stdout"
        }
      ]
    },
    {
      "cell_type": "markdown",
      "metadata": {
        "id": "1EyOha0f2G8g"
      },
      "source": [
        "Write a Python program to split a list every Nth element.\n",
        "\n",
        "Sample list: \n",
        "\n",
        "[&#39;a&#39;, &#39;b&#39;, &#39;c&#39;, &#39;d&#39;, &#39;e&#39;, &#39;f&#39;, &#39;g&#39;, &#39;h&#39;, &#39;i&#39;, &#39;j&#39;, &#39;k&#39;, &#39;l&#39;, &#39;m&#39;, &#39;n&#39;]\n",
        "\n",
        "Expected Output: \n",
        "\n",
        "[[&#39;a&#39;, &#39;d&#39;, &#39;g&#39;, &#39;j&#39;, &#39;m&#39;], [&#39;b&#39;, &#39;e&#39;, &#39;h&#39;, &#39;k&#39;, &#39;n&#39;], [&#39;c&#39;, &#39;f&#39;, &#39;i&#39;, &#39;l&#39;]]"
      ]
    },
    {
      "cell_type": "code",
      "metadata": {
        "colab": {
          "base_uri": "https://localhost:8080/"
        },
        "id": "n4fYo5qD18Va",
        "outputId": "096a551c-9a91-4a79-b6b7-9acb0fc61a44"
      },
      "source": [
        "n = int(input(\"Enter your input :- \"))\n",
        "l = ['a', 'b', 'c', 'd', 'e', 'f', 'g', 'h', 'i', 'j', 'k', 'l', 'm', 'n']\n",
        "new_l = []\n",
        "for i in range(0,len(l),n):\n",
        "  new_l.append(l[i:i+n])\n",
        "\n",
        "new_l  \n"
      ],
      "execution_count": 80,
      "outputs": [
        {
          "output_type": "stream",
          "text": [
            "Enter your input :- 5\n"
          ],
          "name": "stdout"
        },
        {
          "output_type": "execute_result",
          "data": {
            "text/plain": [
              "[['a', 'b', 'c', 'd', 'e'], ['f', 'g', 'h', 'i', 'j'], ['k', 'l', 'm', 'n']]"
            ]
          },
          "metadata": {
            "tags": []
          },
          "execution_count": 80
        }
      ]
    },
    {
      "cell_type": "code",
      "metadata": {
        "colab": {
          "base_uri": "https://localhost:8080/"
        },
        "id": "vk2XJVeH3qs1",
        "outputId": "1177bc2c-c6c5-457f-cf99-9e0c8a5417d0"
      },
      "source": [
        "i=4\n",
        "new_l.append(l[i:i+4])\n",
        "new_l"
      ],
      "execution_count": 74,
      "outputs": [
        {
          "output_type": "execute_result",
          "data": {
            "text/plain": [
              "[['e', 'f', 'g', 'h'], ['e', 'f', 'g', 'h']]"
            ]
          },
          "metadata": {
            "tags": []
          },
          "execution_count": 74
        }
      ]
    }
  ]
}